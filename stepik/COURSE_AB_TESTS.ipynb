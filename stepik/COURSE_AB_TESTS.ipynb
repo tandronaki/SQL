{
 "cells": [
  {
   "cell_type": "markdown",
   "id": "66c3d987",
   "metadata": {},
   "source": [
    "# А/Б-тесты с Глебом Михайловым"
   ]
  },
  {
   "cell_type": "markdown",
   "id": "995525a0",
   "metadata": {},
   "source": [
    "АБ тесты - это метод проверки гипотез с помощью экспериментов"
   ]
  },
  {
   "cell_type": "markdown",
   "id": "16a9b966",
   "metadata": {},
   "source": [
    "А - котнтрольная группа <br>\n",
    "Б - тестовая <br>\n",
    "АБ тесты нужны чтобы изолировать внешние изменения\n"
   ]
  },
  {
   "cell_type": "markdown",
   "id": "ab79ad63",
   "metadata": {},
   "source": [
    "Проблемы: <br>\n",
    "Внешние факторы<br>\n",
    "Случайность<br>"
   ]
  },
  {
   "cell_type": "markdown",
   "id": "05489d0f",
   "metadata": {},
   "source": [
    "Составляющие АБ теста: <br>\n",
    "Эксперимент(сбор данных)<br>\n",
    "Стат. тест"
   ]
  },
  {
   "cell_type": "markdown",
   "id": "4e6716a4",
   "metadata": {},
   "source": [
    "## Метрики для тестов с бинарным ответом\n",
    "(Используется для задач классификации)<br>\n",
    "Типы ошибок: <br>\n",
    "1 рода - ложноположительные (у пациента диагностируют заболевания, хотя его нет)<br>\n",
    "2 рода - ложноотрицательные (у пациента не обнаруживают заболевание)"
   ]
  },
  {
   "cell_type": "markdown",
   "id": "31f8a2cb",
   "metadata": {},
   "source": [
    "Формула процент ошибок для ошибок первого рода (FPR) - ложноположительные / ложные % <br>\n",
    "Формула процент ошибок для ошибок второго рода (FNR) - ложноотрицательные / положительные % <br>\n",
    "% положительных правильных 1 (Sensitivity) - FNR <br>\n",
    "% отрицательных правильных 1 (Specificity) - FPR <br>"
   ]
  },
  {
   "cell_type": "markdown",
   "id": "358c0d60",
   "metadata": {},
   "source": [
    "Sensitivityтеста на ковид 65% - это означает, что из 100 больных человек, тест покажет, что больны только 65 (у 45 человек покажет, что нет, хотя на самом деле есть)<br>\n",
    "Specificity теста на ковид 99,9% - это означает, что из 1000 здоровых человек, тест покажет, что 1 болен"
   ]
  },
  {
   "cell_type": "code",
   "execution_count": 3,
   "id": "d2212a5d",
   "metadata": {},
   "outputs": [],
   "source": [
    "import pandas as pd"
   ]
  },
  {
   "cell_type": "code",
   "execution_count": 5,
   "id": "673889d8",
   "metadata": {},
   "outputs": [],
   "source": [
    "df = pd.read_csv('data/covid.csv')"
   ]
  },
  {
   "cell_type": "code",
   "execution_count": 6,
   "id": "a7fb7a61",
   "metadata": {},
   "outputs": [
    {
     "data": {
      "text/html": [
       "<div>\n",
       "<style scoped>\n",
       "    .dataframe tbody tr th:only-of-type {\n",
       "        vertical-align: middle;\n",
       "    }\n",
       "\n",
       "    .dataframe tbody tr th {\n",
       "        vertical-align: top;\n",
       "    }\n",
       "\n",
       "    .dataframe thead th {\n",
       "        text-align: right;\n",
       "    }\n",
       "</style>\n",
       "<table border=\"1\" class=\"dataframe\">\n",
       "  <thead>\n",
       "    <tr style=\"text-align: right;\">\n",
       "      <th></th>\n",
       "      <th>y_true</th>\n",
       "      <th>y_pred1</th>\n",
       "      <th>y_pred2</th>\n",
       "    </tr>\n",
       "  </thead>\n",
       "  <tbody>\n",
       "    <tr>\n",
       "      <th>0</th>\n",
       "      <td>0</td>\n",
       "      <td>0</td>\n",
       "      <td>0</td>\n",
       "    </tr>\n",
       "    <tr>\n",
       "      <th>1</th>\n",
       "      <td>1</td>\n",
       "      <td>1</td>\n",
       "      <td>0</td>\n",
       "    </tr>\n",
       "    <tr>\n",
       "      <th>2</th>\n",
       "      <td>1</td>\n",
       "      <td>0</td>\n",
       "      <td>1</td>\n",
       "    </tr>\n",
       "    <tr>\n",
       "      <th>3</th>\n",
       "      <td>0</td>\n",
       "      <td>1</td>\n",
       "      <td>0</td>\n",
       "    </tr>\n",
       "    <tr>\n",
       "      <th>4</th>\n",
       "      <td>1</td>\n",
       "      <td>0</td>\n",
       "      <td>1</td>\n",
       "    </tr>\n",
       "  </tbody>\n",
       "</table>\n",
       "</div>"
      ],
      "text/plain": [
       "   y_true  y_pred1  y_pred2\n",
       "0       0        0        0\n",
       "1       1        1        0\n",
       "2       1        0        1\n",
       "3       0        1        0\n",
       "4       1        0        1"
      ]
     },
     "execution_count": 6,
     "metadata": {},
     "output_type": "execute_result"
    }
   ],
   "source": [
    "df.head()"
   ]
  },
  {
   "cell_type": "markdown",
   "id": "ac45f5b5",
   "metadata": {},
   "source": [
    "1) y_true - реальность (0 - здоров, 1 - болен)<br>\n",
    "2) y_pred1 - резульатат 1 теста на ковид<br>\n",
    "3) y_pred2 - результат 2 теста на ковид<br>"
   ]
  },
  {
   "cell_type": "code",
   "execution_count": 7,
   "id": "953c8fd4",
   "metadata": {},
   "outputs": [
    {
     "data": {
      "text/plain": [
       "0.18"
      ]
     },
     "execution_count": 7,
     "metadata": {},
     "output_type": "execute_result"
    }
   ],
   "source": [
    "len(df[df['y_true'] != df['y_pred1']]) / len(df)"
   ]
  },
  {
   "cell_type": "code",
   "execution_count": 8,
   "id": "3b4d3473",
   "metadata": {},
   "outputs": [
    {
     "data": {
      "text/plain": [
       "0.18"
      ]
     },
     "execution_count": 8,
     "metadata": {},
     "output_type": "execute_result"
    }
   ],
   "source": [
    "(df['y_true'] != df['y_pred1']).mean()"
   ]
  },
  {
   "cell_type": "code",
   "execution_count": 9,
   "id": "519264b4",
   "metadata": {},
   "outputs": [
    {
     "data": {
      "text/plain": [
       "0.18"
      ]
     },
     "execution_count": 9,
     "metadata": {},
     "output_type": "execute_result"
    }
   ],
   "source": [
    "(df['y_true'] != df['y_pred2']).mean()"
   ]
  },
  {
   "cell_type": "markdown",
   "id": "e1227ed1",
   "metadata": {},
   "source": [
    "### ACCURACY"
   ]
  },
  {
   "cell_type": "code",
   "execution_count": 10,
   "id": "474a8b70",
   "metadata": {},
   "outputs": [
    {
     "data": {
      "text/plain": [
       "0.82"
      ]
     },
     "execution_count": 10,
     "metadata": {},
     "output_type": "execute_result"
    }
   ],
   "source": [
    "from sklearn.metrics import accuracy_score\n",
    "accuracy_score(df['y_true'], df['y_pred1'])"
   ]
  },
  {
   "cell_type": "code",
   "execution_count": 11,
   "id": "2eb9ce22",
   "metadata": {},
   "outputs": [
    {
     "data": {
      "text/plain": [
       "0.82"
      ]
     },
     "execution_count": 11,
     "metadata": {},
     "output_type": "execute_result"
    }
   ],
   "source": [
    "accuracy_score(df['y_true'], df['y_pred2'])"
   ]
  },
  {
   "cell_type": "markdown",
   "id": "ab65693f",
   "metadata": {},
   "source": [
    "### POSITIVE AND NEGATIVE"
   ]
  },
  {
   "cell_type": "code",
   "execution_count": 12,
   "id": "aad43ce5",
   "metadata": {},
   "outputs": [],
   "source": [
    "positives = df[df['y_true'] == 1].copy()"
   ]
  },
  {
   "cell_type": "code",
   "execution_count": 13,
   "id": "1e2550c1",
   "metadata": {},
   "outputs": [],
   "source": [
    "negatives = df[df['y_true'] == 0].copy()"
   ]
  },
  {
   "cell_type": "markdown",
   "id": "205c7498",
   "metadata": {},
   "source": [
    "#### FNR"
   ]
  },
  {
   "cell_type": "code",
   "execution_count": 14,
   "id": "ea181488",
   "metadata": {},
   "outputs": [
    {
     "data": {
      "text/plain": [
       "0.2949852507374631"
      ]
     },
     "execution_count": 14,
     "metadata": {},
     "output_type": "execute_result"
    }
   ],
   "source": [
    "(positives['y_true'] != positives['y_pred1']).mean() # в 29% случаев мы пропускаем больного FNR"
   ]
  },
  {
   "cell_type": "code",
   "execution_count": 15,
   "id": "bd3ace80",
   "metadata": {},
   "outputs": [
    {
     "data": {
      "text/plain": [
       "0.344149459193707"
      ]
     },
     "execution_count": 15,
     "metadata": {},
     "output_type": "execute_result"
    }
   ],
   "source": [
    "(positives['y_true'] != positives['y_pred2']).mean() # в 34% случаев мы пропускаем больного FNR"
   ]
  },
  {
   "cell_type": "markdown",
   "id": "a04975ba",
   "metadata": {},
   "source": [
    "#### FPR"
   ]
  },
  {
   "cell_type": "code",
   "execution_count": 16,
   "id": "d7a31c42",
   "metadata": {},
   "outputs": [
    {
     "data": {
      "text/plain": [
       "0.061037639877924724"
      ]
     },
     "execution_count": 16,
     "metadata": {},
     "output_type": "execute_result"
    }
   ],
   "source": [
    "(negatives['y_true'] != negatives['y_pred1']).mean() # в 6% случаев мы считаем больного здоровым"
   ]
  },
  {
   "cell_type": "code",
   "execution_count": 17,
   "id": "fb80be4c",
   "metadata": {},
   "outputs": [
    {
     "data": {
      "text/plain": [
       "0.01017293997965412"
      ]
     },
     "execution_count": 17,
     "metadata": {},
     "output_type": "execute_result"
    }
   ],
   "source": [
    "(negatives['y_true'] != negatives['y_pred2']).mean() # в 1% случаев мы считаем больного здоровым"
   ]
  },
  {
   "cell_type": "markdown",
   "id": "54d168ae",
   "metadata": {},
   "source": [
    "#### Sensitivity"
   ]
  },
  {
   "cell_type": "code",
   "execution_count": 18,
   "id": "71131b61",
   "metadata": {},
   "outputs": [
    {
     "data": {
      "text/plain": [
       "0.7050147492625368"
      ]
     },
     "execution_count": 18,
     "metadata": {},
     "output_type": "execute_result"
    }
   ],
   "source": [
    "accuracy_score(positives['y_true'], positives['y_pred1'])"
   ]
  },
  {
   "cell_type": "code",
   "execution_count": 19,
   "id": "4667d5b6",
   "metadata": {},
   "outputs": [
    {
     "data": {
      "text/plain": [
       "0.655850540806293"
      ]
     },
     "execution_count": 19,
     "metadata": {},
     "output_type": "execute_result"
    }
   ],
   "source": [
    "accuracy_score(positives['y_true'], positives['y_pred2'])"
   ]
  },
  {
   "cell_type": "markdown",
   "id": "75f7b4a8",
   "metadata": {},
   "source": [
    "#### Specificity"
   ]
  },
  {
   "cell_type": "code",
   "execution_count": 20,
   "id": "0205af16",
   "metadata": {},
   "outputs": [
    {
     "data": {
      "text/plain": [
       "0.9389623601220752"
      ]
     },
     "execution_count": 20,
     "metadata": {},
     "output_type": "execute_result"
    }
   ],
   "source": [
    "accuracy_score(negatives['y_true'], negatives['y_pred1'])"
   ]
  },
  {
   "cell_type": "code",
   "execution_count": 21,
   "id": "d4a2ccdb",
   "metadata": {},
   "outputs": [
    {
     "data": {
      "text/plain": [
       "0.9898270600203459"
      ]
     },
     "execution_count": 21,
     "metadata": {},
     "output_type": "execute_result"
    }
   ],
   "source": [
    "accuracy_score(negatives['y_true'], negatives['y_pred2'])"
   ]
  },
  {
   "cell_type": "markdown",
   "id": "f4c8c3c5",
   "metadata": {},
   "source": [
    "#### Sensitivity and Specificity in SKLEARN"
   ]
  },
  {
   "cell_type": "code",
   "execution_count": 22,
   "id": "f6292eb4",
   "metadata": {},
   "outputs": [],
   "source": [
    "from sklearn.metrics import recall_score"
   ]
  },
  {
   "cell_type": "code",
   "execution_count": 23,
   "id": "dff3e2f6",
   "metadata": {},
   "outputs": [
    {
     "data": {
      "text/plain": [
       "0.7050147492625368"
      ]
     },
     "execution_count": 23,
     "metadata": {},
     "output_type": "execute_result"
    }
   ],
   "source": [
    "recall_score(df['y_true'], df['y_pred1'])"
   ]
  },
  {
   "cell_type": "code",
   "execution_count": 24,
   "id": "b9b65910",
   "metadata": {},
   "outputs": [
    {
     "data": {
      "text/plain": [
       "0.655850540806293"
      ]
     },
     "execution_count": 24,
     "metadata": {},
     "output_type": "execute_result"
    }
   ],
   "source": [
    "recall_score(df['y_true'], df['y_pred2'])"
   ]
  },
  {
   "cell_type": "code",
   "execution_count": 25,
   "id": "df5d9439",
   "metadata": {},
   "outputs": [
    {
     "data": {
      "text/plain": [
       "0.9389623601220752"
      ]
     },
     "execution_count": 25,
     "metadata": {},
     "output_type": "execute_result"
    }
   ],
   "source": [
    "recall_score(df['y_true'], df['y_pred1'], pos_label=0)"
   ]
  },
  {
   "cell_type": "code",
   "execution_count": 26,
   "id": "ccc68126",
   "metadata": {},
   "outputs": [
    {
     "data": {
      "text/plain": [
       "0.9898270600203459"
      ]
     },
     "execution_count": 26,
     "metadata": {},
     "output_type": "execute_result"
    }
   ],
   "source": [
    "recall_score(df['y_true'], df['y_pred2'], pos_label=0)"
   ]
  },
  {
   "cell_type": "code",
   "execution_count": 27,
   "id": "cc4e6949",
   "metadata": {},
   "outputs": [],
   "source": [
    "from sklearn.metrics import confusion_matrix, ConfusionMatrixDisplay"
   ]
  },
  {
   "cell_type": "code",
   "execution_count": 28,
   "id": "ac67b9d0",
   "metadata": {},
   "outputs": [
    {
     "data": {
      "text/plain": [
       "<sklearn.metrics._plot.confusion_matrix.ConfusionMatrixDisplay at 0x14820c690>"
      ]
     },
     "execution_count": 28,
     "metadata": {},
     "output_type": "execute_result"
    },
    {
     "data": {
      "image/png": "[encoded data removed]",
      "text/plain": [
       "<Figure size 640x480 with 2 Axes>"
      ]
     },
     "metadata": {},
     "output_type": "display_data"
    }
   ],
   "source": [
    "cm = confusion_matrix(df[\"y_true\"], df['y_pred1'])\n",
    "disp = ConfusionMatrixDisplay(confusion_matrix=cm)\n",
    "disp.plot()"
   ]
  },
  {
   "cell_type": "code",
   "execution_count": 29,
   "id": "a35b60e6",
   "metadata": {},
   "outputs": [
    {
     "data": {
      "text/plain": [
       "<sklearn.metrics._plot.confusion_matrix.ConfusionMatrixDisplay at 0x1496a7ed0>"
      ]
     },
     "execution_count": 29,
     "metadata": {},
     "output_type": "execute_result"
    },
    {
     "data": {
      "image/png": "[encoded data removed]",
      "text/plain": [
       "<Figure size 640x480 with 2 Axes>"
      ]
     },
     "metadata": {},
     "output_type": "display_data"
    }
   ],
   "source": [
    "cm = confusion_matrix(df[\"y_true\"], df['y_pred2'])\n",
    "disp = ConfusionMatrixDisplay(confusion_matrix=cm)\n",
    "disp.plot()"
   ]
  },
  {
   "cell_type": "code",
   "execution_count": 30,
   "id": "8c21337c",
   "metadata": {},
   "outputs": [],
   "source": [
    "df = pd.read_csv(\"data/pregnancy.csv\")"
   ]
  },
  {
   "cell_type": "code",
   "execution_count": 31,
   "id": "4f574934",
   "metadata": {},
   "outputs": [
    {
     "data": {
      "text/html": [
       "<div>\n",
       "<style scoped>\n",
       "    .dataframe tbody tr th:only-of-type {\n",
       "        vertical-align: middle;\n",
       "    }\n",
       "\n",
       "    .dataframe tbody tr th {\n",
       "        vertical-align: top;\n",
       "    }\n",
       "\n",
       "    .dataframe thead th {\n",
       "        text-align: right;\n",
       "    }\n",
       "</style>\n",
       "<table border=\"1\" class=\"dataframe\">\n",
       "  <thead>\n",
       "    <tr style=\"text-align: right;\">\n",
       "      <th></th>\n",
       "      <th>y_true</th>\n",
       "      <th>y_pred1</th>\n",
       "      <th>y_pred2</th>\n",
       "    </tr>\n",
       "  </thead>\n",
       "  <tbody>\n",
       "    <tr>\n",
       "      <th>0</th>\n",
       "      <td>0</td>\n",
       "      <td>0</td>\n",
       "      <td>0</td>\n",
       "    </tr>\n",
       "    <tr>\n",
       "      <th>1</th>\n",
       "      <td>1</td>\n",
       "      <td>1</td>\n",
       "      <td>1</td>\n",
       "    </tr>\n",
       "    <tr>\n",
       "      <th>2</th>\n",
       "      <td>1</td>\n",
       "      <td>1</td>\n",
       "      <td>1</td>\n",
       "    </tr>\n",
       "    <tr>\n",
       "      <th>3</th>\n",
       "      <td>0</td>\n",
       "      <td>1</td>\n",
       "      <td>0</td>\n",
       "    </tr>\n",
       "    <tr>\n",
       "      <th>4</th>\n",
       "      <td>1</td>\n",
       "      <td>1</td>\n",
       "      <td>1</td>\n",
       "    </tr>\n",
       "  </tbody>\n",
       "</table>\n",
       "</div>"
      ],
      "text/plain": [
       "   y_true  y_pred1  y_pred2\n",
       "0       0        0        0\n",
       "1       1        1        1\n",
       "2       1        1        1\n",
       "3       0        1        0\n",
       "4       1        1        1"
      ]
     },
     "execution_count": 31,
     "metadata": {},
     "output_type": "execute_result"
    }
   ],
   "source": [
    "df.head()"
   ]
  },
  {
   "cell_type": "code",
   "execution_count": 32,
   "id": "f79d69a4",
   "metadata": {},
   "outputs": [
    {
     "data": {
      "text/plain": [
       "0.95"
      ]
     },
     "execution_count": 32,
     "metadata": {},
     "output_type": "execute_result"
    }
   ],
   "source": [
    "accuracy_score(df['y_true'], df['y_pred1']) # тест выдает правильный результат с 95% вероятностью"
   ]
  },
  {
   "cell_type": "code",
   "execution_count": 33,
   "id": "2ab02c3e",
   "metadata": {},
   "outputs": [
    {
     "data": {
      "text/plain": [
       "0.95"
      ]
     },
     "execution_count": 33,
     "metadata": {},
     "output_type": "execute_result"
    }
   ],
   "source": [
    "accuracy_score(df['y_true'], df['y_pred2'])"
   ]
  },
  {
   "cell_type": "markdown",
   "id": "eeee3858",
   "metadata": {},
   "source": [
    "#### Sensitivity"
   ]
  },
  {
   "cell_type": "code",
   "execution_count": 34,
   "id": "7ac98dd4",
   "metadata": {},
   "outputs": [
    {
     "data": {
      "text/plain": [
       "0.9901671583087512"
      ]
     },
     "execution_count": 34,
     "metadata": {},
     "output_type": "execute_result"
    }
   ],
   "source": [
    "recall_score(df[\"y_true\"], df[\"y_pred1\"]) # в случае беремененности у 99% показывает, что беременна"
   ]
  },
  {
   "cell_type": "code",
   "execution_count": 35,
   "id": "6b1fbd30",
   "metadata": {},
   "outputs": [
    {
     "data": {
      "text/plain": [
       "0.9508357915437562"
      ]
     },
     "execution_count": 35,
     "metadata": {},
     "output_type": "execute_result"
    }
   ],
   "source": [
    "recall_score(df[\"y_true\"], df[\"y_pred2\"]) # в случае беремененности у 95% показывает, что беременна"
   ]
  },
  {
   "cell_type": "markdown",
   "id": "e45d20be",
   "metadata": {},
   "source": [
    "#### Specificity"
   ]
  },
  {
   "cell_type": "code",
   "execution_count": 36,
   "id": "d706d009",
   "metadata": {},
   "outputs": [
    {
     "data": {
      "text/plain": [
       "0.9084435401831129"
      ]
     },
     "execution_count": 36,
     "metadata": {},
     "output_type": "execute_result"
    }
   ],
   "source": [
    "recall_score(df[\"y_true\"], df[\"y_pred1\"], pos_label=0) # в случае не беремененности у 90% показывает, что не беременна"
   ]
  },
  {
   "cell_type": "code",
   "execution_count": 37,
   "id": "4a37571e",
   "metadata": {},
   "outputs": [
    {
     "data": {
      "text/plain": [
       "0.9491353001017294"
      ]
     },
     "execution_count": 37,
     "metadata": {},
     "output_type": "execute_result"
    }
   ],
   "source": [
    "recall_score(df[\"y_true\"], df[\"y_pred2\"], pos_label=0) # в случае не беремененности у 94% показывает, что не беременна"
   ]
  },
  {
   "cell_type": "markdown",
   "id": "342082b1",
   "metadata": {},
   "source": [
    "## А/Б ТЕСТЫ. Статистический тест"
   ]
  },
  {
   "cell_type": "markdown",
   "id": "b1a7a074",
   "metadata": {},
   "source": [
    "Отвечает на вопрос привели ли изменения к улучшению или нет"
   ]
  },
  {
   "cell_type": "markdown",
   "id": "604b8b8b",
   "metadata": {},
   "source": [
    "Метрики:<br>\n",
    "- TPR - процент случаев, когда мы говором, что разница есть и одна действительна есть (ошибки 2 рода) <br>\n",
    "- FPR - процент случаев, когда мы говором, что разница есть, но ее нет(ошибки 1 рода)<br>\n",
    "- MDE (минимальный эффект) - минимальная реальная разница, которую может обнаружить тест"
   ]
  },
  {
   "cell_type": "code",
   "execution_count": 2,
   "id": "7ccf8ede",
   "metadata": {},
   "outputs": [],
   "source": [
    "import numpy as np"
   ]
  },
  {
   "cell_type": "markdown",
   "id": "43ca65fd",
   "metadata": {},
   "source": [
    "### Метод монте карло"
   ]
  },
  {
   "cell_type": "code",
   "execution_count": 39,
   "id": "c132c378",
   "metadata": {},
   "outputs": [],
   "source": [
    "a = np.random.binomial(1, 0.03, size=1000).mean()\n",
    "b = np.random.binomial(1, 0.05, size=1000).mean()"
   ]
  },
  {
   "cell_type": "code",
   "execution_count": 40,
   "id": "7229c50a",
   "metadata": {},
   "outputs": [
    {
     "data": {
      "text/plain": [
       "(0.037, 0.051)"
      ]
     },
     "execution_count": 40,
     "metadata": {},
     "output_type": "execute_result"
    }
   ],
   "source": [
    "a, b"
   ]
  },
  {
   "cell_type": "code",
   "execution_count": 41,
   "id": "111c3572",
   "metadata": {},
   "outputs": [],
   "source": [
    "n = 1000\n",
    "result = []\n",
    "for i in range(n):\n",
    "    a = np.random.binomial(1, 0.03, size=1000).mean()\n",
    "    b = np.random.binomial(1, 0.05, size=1000).mean()\n",
    "    result.append((a, b))"
   ]
  },
  {
   "cell_type": "code",
   "execution_count": 42,
   "id": "da125149",
   "metadata": {},
   "outputs": [],
   "source": [
    "df = pd.DataFrame(result, columns=[\"a\", \"b\"])"
   ]
  },
  {
   "cell_type": "code",
   "execution_count": 43,
   "id": "a5bf9931",
   "metadata": {},
   "outputs": [
    {
     "data": {
      "text/html": [
       "<div>\n",
       "<style scoped>\n",
       "    .dataframe tbody tr th:only-of-type {\n",
       "        vertical-align: middle;\n",
       "    }\n",
       "\n",
       "    .dataframe tbody tr th {\n",
       "        vertical-align: top;\n",
       "    }\n",
       "\n",
       "    .dataframe thead th {\n",
       "        text-align: right;\n",
       "    }\n",
       "</style>\n",
       "<table border=\"1\" class=\"dataframe\">\n",
       "  <thead>\n",
       "    <tr style=\"text-align: right;\">\n",
       "      <th></th>\n",
       "      <th>a</th>\n",
       "      <th>b</th>\n",
       "    </tr>\n",
       "  </thead>\n",
       "  <tbody>\n",
       "    <tr>\n",
       "      <th>0</th>\n",
       "      <td>0.027</td>\n",
       "      <td>0.060</td>\n",
       "    </tr>\n",
       "    <tr>\n",
       "      <th>1</th>\n",
       "      <td>0.036</td>\n",
       "      <td>0.043</td>\n",
       "    </tr>\n",
       "    <tr>\n",
       "      <th>2</th>\n",
       "      <td>0.034</td>\n",
       "      <td>0.050</td>\n",
       "    </tr>\n",
       "    <tr>\n",
       "      <th>3</th>\n",
       "      <td>0.041</td>\n",
       "      <td>0.042</td>\n",
       "    </tr>\n",
       "    <tr>\n",
       "      <th>4</th>\n",
       "      <td>0.035</td>\n",
       "      <td>0.051</td>\n",
       "    </tr>\n",
       "    <tr>\n",
       "      <th>...</th>\n",
       "      <td>...</td>\n",
       "      <td>...</td>\n",
       "    </tr>\n",
       "    <tr>\n",
       "      <th>995</th>\n",
       "      <td>0.030</td>\n",
       "      <td>0.054</td>\n",
       "    </tr>\n",
       "    <tr>\n",
       "      <th>996</th>\n",
       "      <td>0.032</td>\n",
       "      <td>0.057</td>\n",
       "    </tr>\n",
       "    <tr>\n",
       "      <th>997</th>\n",
       "      <td>0.020</td>\n",
       "      <td>0.056</td>\n",
       "    </tr>\n",
       "    <tr>\n",
       "      <th>998</th>\n",
       "      <td>0.024</td>\n",
       "      <td>0.056</td>\n",
       "    </tr>\n",
       "    <tr>\n",
       "      <th>999</th>\n",
       "      <td>0.029</td>\n",
       "      <td>0.050</td>\n",
       "    </tr>\n",
       "  </tbody>\n",
       "</table>\n",
       "<p>1000 rows × 2 columns</p>\n",
       "</div>"
      ],
      "text/plain": [
       "         a      b\n",
       "0    0.027  0.060\n",
       "1    0.036  0.043\n",
       "2    0.034  0.050\n",
       "3    0.041  0.042\n",
       "4    0.035  0.051\n",
       "..     ...    ...\n",
       "995  0.030  0.054\n",
       "996  0.032  0.057\n",
       "997  0.020  0.056\n",
       "998  0.024  0.056\n",
       "999  0.029  0.050\n",
       "\n",
       "[1000 rows x 2 columns]"
      ]
     },
     "execution_count": 43,
     "metadata": {},
     "output_type": "execute_result"
    }
   ],
   "source": [
    "df"
   ]
  },
  {
   "cell_type": "code",
   "execution_count": 44,
   "id": "46b0eb99",
   "metadata": {},
   "outputs": [
    {
     "data": {
      "text/html": [
       "<div>\n",
       "<style scoped>\n",
       "    .dataframe tbody tr th:only-of-type {\n",
       "        vertical-align: middle;\n",
       "    }\n",
       "\n",
       "    .dataframe tbody tr th {\n",
       "        vertical-align: top;\n",
       "    }\n",
       "\n",
       "    .dataframe thead th {\n",
       "        text-align: right;\n",
       "    }\n",
       "</style>\n",
       "<table border=\"1\" class=\"dataframe\">\n",
       "  <thead>\n",
       "    <tr style=\"text-align: right;\">\n",
       "      <th></th>\n",
       "      <th>a</th>\n",
       "      <th>b</th>\n",
       "    </tr>\n",
       "  </thead>\n",
       "  <tbody>\n",
       "    <tr>\n",
       "      <th>44</th>\n",
       "      <td>0.040</td>\n",
       "      <td>0.036</td>\n",
       "    </tr>\n",
       "    <tr>\n",
       "      <th>46</th>\n",
       "      <td>0.036</td>\n",
       "      <td>0.033</td>\n",
       "    </tr>\n",
       "    <tr>\n",
       "      <th>65</th>\n",
       "      <td>0.039</td>\n",
       "      <td>0.037</td>\n",
       "    </tr>\n",
       "    <tr>\n",
       "      <th>71</th>\n",
       "      <td>0.039</td>\n",
       "      <td>0.038</td>\n",
       "    </tr>\n",
       "    <tr>\n",
       "      <th>77</th>\n",
       "      <td>0.049</td>\n",
       "      <td>0.037</td>\n",
       "    </tr>\n",
       "    <tr>\n",
       "      <th>118</th>\n",
       "      <td>0.041</td>\n",
       "      <td>0.040</td>\n",
       "    </tr>\n",
       "    <tr>\n",
       "      <th>460</th>\n",
       "      <td>0.041</td>\n",
       "      <td>0.039</td>\n",
       "    </tr>\n",
       "    <tr>\n",
       "      <th>471</th>\n",
       "      <td>0.042</td>\n",
       "      <td>0.041</td>\n",
       "    </tr>\n",
       "    <tr>\n",
       "      <th>552</th>\n",
       "      <td>0.039</td>\n",
       "      <td>0.033</td>\n",
       "    </tr>\n",
       "    <tr>\n",
       "      <th>566</th>\n",
       "      <td>0.048</td>\n",
       "      <td>0.042</td>\n",
       "    </tr>\n",
       "    <tr>\n",
       "      <th>651</th>\n",
       "      <td>0.037</td>\n",
       "      <td>0.033</td>\n",
       "    </tr>\n",
       "    <tr>\n",
       "      <th>710</th>\n",
       "      <td>0.039</td>\n",
       "      <td>0.032</td>\n",
       "    </tr>\n",
       "    <tr>\n",
       "      <th>740</th>\n",
       "      <td>0.038</td>\n",
       "      <td>0.035</td>\n",
       "    </tr>\n",
       "    <tr>\n",
       "      <th>762</th>\n",
       "      <td>0.040</td>\n",
       "      <td>0.039</td>\n",
       "    </tr>\n",
       "  </tbody>\n",
       "</table>\n",
       "</div>"
      ],
      "text/plain": [
       "         a      b\n",
       "44   0.040  0.036\n",
       "46   0.036  0.033\n",
       "65   0.039  0.037\n",
       "71   0.039  0.038\n",
       "77   0.049  0.037\n",
       "118  0.041  0.040\n",
       "460  0.041  0.039\n",
       "471  0.042  0.041\n",
       "552  0.039  0.033\n",
       "566  0.048  0.042\n",
       "651  0.037  0.033\n",
       "710  0.039  0.032\n",
       "740  0.038  0.035\n",
       "762  0.040  0.039"
      ]
     },
     "execution_count": 44,
     "metadata": {},
     "output_type": "execute_result"
    }
   ],
   "source": [
    "df[df['a'] > df['b']]"
   ]
  },
  {
   "cell_type": "markdown",
   "id": "1f9de879",
   "metadata": {},
   "source": [
    "даже если мы знаем реальную конверсию(в нашем случае а = 3%, b = 5%), за счет того, что выборки недостаточно велики, бывают случаи, когда конверсия в выборке а больше, чем в b <br>\n",
    "https://glebmikha.github.io/ab-test-calculator-by-gleb-mikhaylov/"
   ]
  },
  {
   "cell_type": "code",
   "execution_count": 45,
   "id": "79a07fe8",
   "metadata": {},
   "outputs": [],
   "source": [
    "a = np.random.binomial(1, 0.03, size=1484).mean()\n",
    "b = np.random.binomial(1, 0.05, size=1484).mean()"
   ]
  },
  {
   "cell_type": "code",
   "execution_count": 46,
   "id": "28e0a258",
   "metadata": {},
   "outputs": [
    {
     "data": {
      "text/plain": [
       "(0.03369272237196765, 0.04110512129380054)"
      ]
     },
     "execution_count": 46,
     "metadata": {},
     "output_type": "execute_result"
    }
   ],
   "source": [
    "a, b"
   ]
  },
  {
   "cell_type": "code",
   "execution_count": 47,
   "id": "32e459fd",
   "metadata": {},
   "outputs": [
    {
     "data": {
      "text/plain": [
       "(49.99999999999999, 61.0)"
      ]
     },
     "execution_count": 47,
     "metadata": {},
     "output_type": "execute_result"
    }
   ],
   "source": [
    "a * 1484, b * 1484"
   ]
  },
  {
   "cell_type": "code",
   "execution_count": 117,
   "id": "811496d7",
   "metadata": {},
   "outputs": [],
   "source": [
    "a, b = np.random.binomial(1484, 0.03), np.random.binomial(1484, 0.05)"
   ]
  },
  {
   "cell_type": "code",
   "execution_count": 118,
   "id": "d1f9d43b",
   "metadata": {},
   "outputs": [
    {
     "data": {
      "text/plain": [
       "(47, 72)"
      ]
     },
     "execution_count": 118,
     "metadata": {},
     "output_type": "execute_result"
    }
   ],
   "source": [
    "a, b"
   ]
  },
  {
   "cell_type": "code",
   "execution_count": 113,
   "id": "e1610ff9",
   "metadata": {},
   "outputs": [],
   "source": [
    "from statsmodels.stats.proportion import proportions_ztest"
   ]
  },
  {
   "cell_type": "code",
   "execution_count": 114,
   "id": "0127af37",
   "metadata": {},
   "outputs": [],
   "source": [
    "def test(conv_a,conv_b,size_a,size_b,significance=0.05):\n",
    "  _, p_value = proportions_ztest([conv_a, conv_b],\n",
    "                                 [size_a, size_b],\n",
    "                                 alternative='two-sided')\n",
    "  return p_value < significance"
   ]
  },
  {
   "cell_type": "code",
   "execution_count": 119,
   "id": "bf87e713",
   "metadata": {},
   "outputs": [
    {
     "data": {
      "text/plain": [
       "True"
      ]
     },
     "execution_count": 119,
     "metadata": {},
     "output_type": "execute_result"
    }
   ],
   "source": [
    "test(47, 72, 1484, 1484)"
   ]
  },
  {
   "cell_type": "markdown",
   "id": "6eff5d89",
   "metadata": {},
   "source": [
    "### TPR"
   ]
  },
  {
   "cell_type": "code",
   "execution_count": 137,
   "id": "7e869d80",
   "metadata": {},
   "outputs": [],
   "source": [
    "n = 100000\n",
    "result = []\n",
    "for _ in range(n):\n",
    "  a = np.random.binomial(1484,0.03)\n",
    "  b = np.random.binomial(1484,0.05)\n",
    "  result.append((a,b))"
   ]
  },
  {
   "cell_type": "code",
   "execution_count": 138,
   "id": "3218fb78",
   "metadata": {},
   "outputs": [],
   "source": [
    "df = pd.DataFrame(result, columns=[\"a\", \"b\"])"
   ]
  },
  {
   "cell_type": "code",
   "execution_count": 139,
   "id": "4de1b74b",
   "metadata": {},
   "outputs": [
    {
     "data": {
      "text/html": [
       "<div>\n",
       "<style scoped>\n",
       "    .dataframe tbody tr th:only-of-type {\n",
       "        vertical-align: middle;\n",
       "    }\n",
       "\n",
       "    .dataframe tbody tr th {\n",
       "        vertical-align: top;\n",
       "    }\n",
       "\n",
       "    .dataframe thead th {\n",
       "        text-align: right;\n",
       "    }\n",
       "</style>\n",
       "<table border=\"1\" class=\"dataframe\">\n",
       "  <thead>\n",
       "    <tr style=\"text-align: right;\">\n",
       "      <th></th>\n",
       "      <th>a</th>\n",
       "      <th>b</th>\n",
       "    </tr>\n",
       "  </thead>\n",
       "  <tbody>\n",
       "    <tr>\n",
       "      <th>0</th>\n",
       "      <td>38</td>\n",
       "      <td>66</td>\n",
       "    </tr>\n",
       "    <tr>\n",
       "      <th>1</th>\n",
       "      <td>29</td>\n",
       "      <td>71</td>\n",
       "    </tr>\n",
       "    <tr>\n",
       "      <th>2</th>\n",
       "      <td>64</td>\n",
       "      <td>66</td>\n",
       "    </tr>\n",
       "    <tr>\n",
       "      <th>3</th>\n",
       "      <td>42</td>\n",
       "      <td>89</td>\n",
       "    </tr>\n",
       "    <tr>\n",
       "      <th>4</th>\n",
       "      <td>38</td>\n",
       "      <td>78</td>\n",
       "    </tr>\n",
       "    <tr>\n",
       "      <th>...</th>\n",
       "      <td>...</td>\n",
       "      <td>...</td>\n",
       "    </tr>\n",
       "    <tr>\n",
       "      <th>99995</th>\n",
       "      <td>52</td>\n",
       "      <td>62</td>\n",
       "    </tr>\n",
       "    <tr>\n",
       "      <th>99996</th>\n",
       "      <td>58</td>\n",
       "      <td>67</td>\n",
       "    </tr>\n",
       "    <tr>\n",
       "      <th>99997</th>\n",
       "      <td>44</td>\n",
       "      <td>77</td>\n",
       "    </tr>\n",
       "    <tr>\n",
       "      <th>99998</th>\n",
       "      <td>39</td>\n",
       "      <td>75</td>\n",
       "    </tr>\n",
       "    <tr>\n",
       "      <th>99999</th>\n",
       "      <td>45</td>\n",
       "      <td>83</td>\n",
       "    </tr>\n",
       "  </tbody>\n",
       "</table>\n",
       "<p>100000 rows × 2 columns</p>\n",
       "</div>"
      ],
      "text/plain": [
       "        a   b\n",
       "0      38  66\n",
       "1      29  71\n",
       "2      64  66\n",
       "3      42  89\n",
       "4      38  78\n",
       "...    ..  ..\n",
       "99995  52  62\n",
       "99996  58  67\n",
       "99997  44  77\n",
       "99998  39  75\n",
       "99999  45  83\n",
       "\n",
       "[100000 rows x 2 columns]"
      ]
     },
     "execution_count": 139,
     "metadata": {},
     "output_type": "execute_result"
    }
   ],
   "source": [
    "df"
   ]
  },
  {
   "cell_type": "code",
   "execution_count": 140,
   "id": "af0337a3",
   "metadata": {},
   "outputs": [],
   "source": [
    "df['test'] = df.apply(lambda row: test(row['a'],row['b'],1484,1484),axis=1)"
   ]
  },
  {
   "cell_type": "code",
   "execution_count": 141,
   "id": "1f95f35a",
   "metadata": {},
   "outputs": [
    {
     "data": {
      "text/html": [
       "<div>\n",
       "<style scoped>\n",
       "    .dataframe tbody tr th:only-of-type {\n",
       "        vertical-align: middle;\n",
       "    }\n",
       "\n",
       "    .dataframe tbody tr th {\n",
       "        vertical-align: top;\n",
       "    }\n",
       "\n",
       "    .dataframe thead th {\n",
       "        text-align: right;\n",
       "    }\n",
       "</style>\n",
       "<table border=\"1\" class=\"dataframe\">\n",
       "  <thead>\n",
       "    <tr style=\"text-align: right;\">\n",
       "      <th></th>\n",
       "      <th>a</th>\n",
       "      <th>b</th>\n",
       "      <th>test</th>\n",
       "    </tr>\n",
       "  </thead>\n",
       "  <tbody>\n",
       "    <tr>\n",
       "      <th>0</th>\n",
       "      <td>38</td>\n",
       "      <td>66</td>\n",
       "      <td>True</td>\n",
       "    </tr>\n",
       "    <tr>\n",
       "      <th>1</th>\n",
       "      <td>29</td>\n",
       "      <td>71</td>\n",
       "      <td>True</td>\n",
       "    </tr>\n",
       "    <tr>\n",
       "      <th>2</th>\n",
       "      <td>64</td>\n",
       "      <td>66</td>\n",
       "      <td>False</td>\n",
       "    </tr>\n",
       "    <tr>\n",
       "      <th>3</th>\n",
       "      <td>42</td>\n",
       "      <td>89</td>\n",
       "      <td>True</td>\n",
       "    </tr>\n",
       "    <tr>\n",
       "      <th>4</th>\n",
       "      <td>38</td>\n",
       "      <td>78</td>\n",
       "      <td>True</td>\n",
       "    </tr>\n",
       "    <tr>\n",
       "      <th>...</th>\n",
       "      <td>...</td>\n",
       "      <td>...</td>\n",
       "      <td>...</td>\n",
       "    </tr>\n",
       "    <tr>\n",
       "      <th>99995</th>\n",
       "      <td>52</td>\n",
       "      <td>62</td>\n",
       "      <td>False</td>\n",
       "    </tr>\n",
       "    <tr>\n",
       "      <th>99996</th>\n",
       "      <td>58</td>\n",
       "      <td>67</td>\n",
       "      <td>False</td>\n",
       "    </tr>\n",
       "    <tr>\n",
       "      <th>99997</th>\n",
       "      <td>44</td>\n",
       "      <td>77</td>\n",
       "      <td>True</td>\n",
       "    </tr>\n",
       "    <tr>\n",
       "      <th>99998</th>\n",
       "      <td>39</td>\n",
       "      <td>75</td>\n",
       "      <td>True</td>\n",
       "    </tr>\n",
       "    <tr>\n",
       "      <th>99999</th>\n",
       "      <td>45</td>\n",
       "      <td>83</td>\n",
       "      <td>True</td>\n",
       "    </tr>\n",
       "  </tbody>\n",
       "</table>\n",
       "<p>100000 rows × 3 columns</p>\n",
       "</div>"
      ],
      "text/plain": [
       "        a   b   test\n",
       "0      38  66   True\n",
       "1      29  71   True\n",
       "2      64  66  False\n",
       "3      42  89   True\n",
       "4      38  78   True\n",
       "...    ..  ..    ...\n",
       "99995  52  62  False\n",
       "99996  58  67  False\n",
       "99997  44  77   True\n",
       "99998  39  75   True\n",
       "99999  45  83   True\n",
       "\n",
       "[100000 rows x 3 columns]"
      ]
     },
     "execution_count": 141,
     "metadata": {},
     "output_type": "execute_result"
    }
   ],
   "source": [
    "df"
   ]
  },
  {
   "cell_type": "code",
   "execution_count": 142,
   "id": "21d2756e",
   "metadata": {},
   "outputs": [
    {
     "data": {
      "text/plain": [
       "0.79966"
      ]
     },
     "execution_count": 142,
     "metadata": {},
     "output_type": "execute_result"
    }
   ],
   "source": [
    "df[\"test\"].mean()"
   ]
  },
  {
   "cell_type": "markdown",
   "id": "2f302ebe",
   "metadata": {},
   "source": [
    "### FPR"
   ]
  },
  {
   "cell_type": "code",
   "execution_count": 144,
   "id": "98b809e4",
   "metadata": {},
   "outputs": [],
   "source": [
    "from tqdm.notebook import tqdm"
   ]
  },
  {
   "cell_type": "code",
   "execution_count": 145,
   "id": "1d3b81ae",
   "metadata": {},
   "outputs": [
    {
     "data": {
      "application/vnd.jupyter.widget-view+json": {
       "model_id": "511dda5f66cf4994ab8cee09324f6156",
       "version_major": 2,
       "version_minor": 0
      },
      "text/plain": [
       "  0%|          | 0/100000 [00:00<?, ?it/s]"
      ]
     },
     "metadata": {},
     "output_type": "display_data"
    }
   ],
   "source": [
    "n = 100000\n",
    "result = []\n",
    "for _ in tqdm(range(n)):\n",
    "  a = np.random.binomial(1484,0.03)\n",
    "  b = np.random.binomial(1484,0.03)\n",
    "  result.append((a,b))"
   ]
  },
  {
   "cell_type": "code",
   "execution_count": 146,
   "id": "21a4e5b1",
   "metadata": {},
   "outputs": [],
   "source": [
    "df = pd.DataFrame(result,columns=['a','b'])"
   ]
  },
  {
   "cell_type": "code",
   "execution_count": 147,
   "id": "25f24689",
   "metadata": {},
   "outputs": [
    {
     "data": {
      "text/html": [
       "<div>\n",
       "<style scoped>\n",
       "    .dataframe tbody tr th:only-of-type {\n",
       "        vertical-align: middle;\n",
       "    }\n",
       "\n",
       "    .dataframe tbody tr th {\n",
       "        vertical-align: top;\n",
       "    }\n",
       "\n",
       "    .dataframe thead th {\n",
       "        text-align: right;\n",
       "    }\n",
       "</style>\n",
       "<table border=\"1\" class=\"dataframe\">\n",
       "  <thead>\n",
       "    <tr style=\"text-align: right;\">\n",
       "      <th></th>\n",
       "      <th>a</th>\n",
       "      <th>b</th>\n",
       "    </tr>\n",
       "  </thead>\n",
       "  <tbody>\n",
       "    <tr>\n",
       "      <th>0</th>\n",
       "      <td>42</td>\n",
       "      <td>44</td>\n",
       "    </tr>\n",
       "    <tr>\n",
       "      <th>1</th>\n",
       "      <td>43</td>\n",
       "      <td>45</td>\n",
       "    </tr>\n",
       "    <tr>\n",
       "      <th>2</th>\n",
       "      <td>50</td>\n",
       "      <td>50</td>\n",
       "    </tr>\n",
       "    <tr>\n",
       "      <th>3</th>\n",
       "      <td>54</td>\n",
       "      <td>47</td>\n",
       "    </tr>\n",
       "    <tr>\n",
       "      <th>4</th>\n",
       "      <td>40</td>\n",
       "      <td>46</td>\n",
       "    </tr>\n",
       "    <tr>\n",
       "      <th>...</th>\n",
       "      <td>...</td>\n",
       "      <td>...</td>\n",
       "    </tr>\n",
       "    <tr>\n",
       "      <th>99995</th>\n",
       "      <td>42</td>\n",
       "      <td>48</td>\n",
       "    </tr>\n",
       "    <tr>\n",
       "      <th>99996</th>\n",
       "      <td>50</td>\n",
       "      <td>44</td>\n",
       "    </tr>\n",
       "    <tr>\n",
       "      <th>99997</th>\n",
       "      <td>36</td>\n",
       "      <td>40</td>\n",
       "    </tr>\n",
       "    <tr>\n",
       "      <th>99998</th>\n",
       "      <td>43</td>\n",
       "      <td>51</td>\n",
       "    </tr>\n",
       "    <tr>\n",
       "      <th>99999</th>\n",
       "      <td>45</td>\n",
       "      <td>58</td>\n",
       "    </tr>\n",
       "  </tbody>\n",
       "</table>\n",
       "<p>100000 rows × 2 columns</p>\n",
       "</div>"
      ],
      "text/plain": [
       "        a   b\n",
       "0      42  44\n",
       "1      43  45\n",
       "2      50  50\n",
       "3      54  47\n",
       "4      40  46\n",
       "...    ..  ..\n",
       "99995  42  48\n",
       "99996  50  44\n",
       "99997  36  40\n",
       "99998  43  51\n",
       "99999  45  58\n",
       "\n",
       "[100000 rows x 2 columns]"
      ]
     },
     "execution_count": 147,
     "metadata": {},
     "output_type": "execute_result"
    }
   ],
   "source": [
    "df"
   ]
  },
  {
   "cell_type": "code",
   "execution_count": 150,
   "id": "2ce372f7",
   "metadata": {},
   "outputs": [],
   "source": [
    "df['test'] = df.apply(lambda row: test(row['a'],row['b'],1484,1484),axis=1)"
   ]
  },
  {
   "cell_type": "code",
   "execution_count": 151,
   "id": "e53af867",
   "metadata": {},
   "outputs": [
    {
     "data": {
      "text/html": [
       "<div>\n",
       "<style scoped>\n",
       "    .dataframe tbody tr th:only-of-type {\n",
       "        vertical-align: middle;\n",
       "    }\n",
       "\n",
       "    .dataframe tbody tr th {\n",
       "        vertical-align: top;\n",
       "    }\n",
       "\n",
       "    .dataframe thead th {\n",
       "        text-align: right;\n",
       "    }\n",
       "</style>\n",
       "<table border=\"1\" class=\"dataframe\">\n",
       "  <thead>\n",
       "    <tr style=\"text-align: right;\">\n",
       "      <th></th>\n",
       "      <th>a</th>\n",
       "      <th>b</th>\n",
       "      <th>test</th>\n",
       "    </tr>\n",
       "  </thead>\n",
       "  <tbody>\n",
       "    <tr>\n",
       "      <th>0</th>\n",
       "      <td>42</td>\n",
       "      <td>44</td>\n",
       "      <td>False</td>\n",
       "    </tr>\n",
       "    <tr>\n",
       "      <th>1</th>\n",
       "      <td>43</td>\n",
       "      <td>45</td>\n",
       "      <td>False</td>\n",
       "    </tr>\n",
       "    <tr>\n",
       "      <th>2</th>\n",
       "      <td>50</td>\n",
       "      <td>50</td>\n",
       "      <td>False</td>\n",
       "    </tr>\n",
       "    <tr>\n",
       "      <th>3</th>\n",
       "      <td>54</td>\n",
       "      <td>47</td>\n",
       "      <td>False</td>\n",
       "    </tr>\n",
       "    <tr>\n",
       "      <th>4</th>\n",
       "      <td>40</td>\n",
       "      <td>46</td>\n",
       "      <td>False</td>\n",
       "    </tr>\n",
       "    <tr>\n",
       "      <th>...</th>\n",
       "      <td>...</td>\n",
       "      <td>...</td>\n",
       "      <td>...</td>\n",
       "    </tr>\n",
       "    <tr>\n",
       "      <th>99995</th>\n",
       "      <td>42</td>\n",
       "      <td>48</td>\n",
       "      <td>False</td>\n",
       "    </tr>\n",
       "    <tr>\n",
       "      <th>99996</th>\n",
       "      <td>50</td>\n",
       "      <td>44</td>\n",
       "      <td>False</td>\n",
       "    </tr>\n",
       "    <tr>\n",
       "      <th>99997</th>\n",
       "      <td>36</td>\n",
       "      <td>40</td>\n",
       "      <td>False</td>\n",
       "    </tr>\n",
       "    <tr>\n",
       "      <th>99998</th>\n",
       "      <td>43</td>\n",
       "      <td>51</td>\n",
       "      <td>False</td>\n",
       "    </tr>\n",
       "    <tr>\n",
       "      <th>99999</th>\n",
       "      <td>45</td>\n",
       "      <td>58</td>\n",
       "      <td>False</td>\n",
       "    </tr>\n",
       "  </tbody>\n",
       "</table>\n",
       "<p>100000 rows × 3 columns</p>\n",
       "</div>"
      ],
      "text/plain": [
       "        a   b   test\n",
       "0      42  44  False\n",
       "1      43  45  False\n",
       "2      50  50  False\n",
       "3      54  47  False\n",
       "4      40  46  False\n",
       "...    ..  ..    ...\n",
       "99995  42  48  False\n",
       "99996  50  44  False\n",
       "99997  36  40  False\n",
       "99998  43  51  False\n",
       "99999  45  58  False\n",
       "\n",
       "[100000 rows x 3 columns]"
      ]
     },
     "execution_count": 151,
     "metadata": {},
     "output_type": "execute_result"
    }
   ],
   "source": [
    "df"
   ]
  },
  {
   "cell_type": "code",
   "execution_count": 152,
   "id": "60f1ec2c",
   "metadata": {},
   "outputs": [
    {
     "data": {
      "text/plain": [
       "0.05003"
      ]
     },
     "execution_count": 152,
     "metadata": {},
     "output_type": "execute_result"
    }
   ],
   "source": [
    "df['test'].mean()"
   ]
  },
  {
   "cell_type": "markdown",
   "id": "0eecdf14",
   "metadata": {},
   "source": [
    "### MDE"
   ]
  },
  {
   "cell_type": "code",
   "execution_count": 153,
   "id": "bb8eeb7b",
   "metadata": {},
   "outputs": [],
   "source": [
    "from tqdm import tqdm"
   ]
  },
  {
   "cell_type": "code",
   "execution_count": 154,
   "id": "4f7fa49e",
   "metadata": {},
   "outputs": [],
   "source": [
    "tqdm.pandas()"
   ]
  },
  {
   "cell_type": "code",
   "execution_count": 159,
   "id": "3d01a13a",
   "metadata": {},
   "outputs": [
    {
     "name": "stderr",
     "output_type": "stream",
     "text": [
      "100%|█████████████████████████████████████████████████████████████████████████████████████████████████████████████| 1000/1000 [00:00<00:00, 253233.35it/s]\n"
     ]
    }
   ],
   "source": [
    "n = 1000\n",
    "result = []\n",
    "for _ in tqdm(range(n)):\n",
    "  a = np.random.binomial(1484,0.03)\n",
    "  b = np.random.binomial(1484,0.04)\n",
    "  result.append((a,b))"
   ]
  },
  {
   "cell_type": "code",
   "execution_count": 160,
   "id": "c9f53302",
   "metadata": {},
   "outputs": [],
   "source": [
    "df = pd.DataFrame(result,columns=['a','b'])"
   ]
  },
  {
   "cell_type": "code",
   "execution_count": 161,
   "id": "33cba65e",
   "metadata": {},
   "outputs": [
    {
     "name": "stderr",
     "output_type": "stream",
     "text": [
      "100%|██████████████████████████████████████████████████████████████████████████████████████████████████████████████| 1000/1000 [00:00<00:00, 12015.45it/s]\n"
     ]
    }
   ],
   "source": [
    "df['test'] = df.progress_apply(lambda row: test(row['a'],row['b'],1484,1484),axis=1)"
   ]
  },
  {
   "cell_type": "code",
   "execution_count": 162,
   "id": "9136d521",
   "metadata": {},
   "outputs": [
    {
     "data": {
      "text/plain": [
       "0.346"
      ]
     },
     "execution_count": 162,
     "metadata": {},
     "output_type": "execute_result"
    }
   ],
   "source": [
    "df['test'].mean()"
   ]
  },
  {
   "cell_type": "markdown",
   "id": "70f77174",
   "metadata": {},
   "source": [
    "## Проверка гипотез"
   ]
  },
  {
   "cell_type": "markdown",
   "id": "e34d48e4",
   "metadata": {},
   "source": [
    "Нулевая гипотеза (H0) - никакой разницы между А и Б нет <br>\n",
    "Альтернативная гипотеза (H1) - разница между А и Б есть"
   ]
  },
  {
   "cell_type": "code",
   "execution_count": 6,
   "id": "674b0081",
   "metadata": {},
   "outputs": [
    {
     "data": {
      "text/plain": [
       "array([1, 0, 0, 1, 1, 1, 0, 1, 1, 1])"
      ]
     },
     "execution_count": 6,
     "metadata": {},
     "output_type": "execute_result"
    }
   ],
   "source": [
    "np.random.binomial(10, 0.5)"
   ]
  },
  {
   "cell_type": "code",
   "execution_count": 7,
   "id": "ee1d406d",
   "metadata": {},
   "outputs": [],
   "source": [
    "n = 1000\n",
    "result = []\n",
    "for _ in range(n):\n",
    "  result.append(np.random.binomial(10, 0.5))"
   ]
  },
  {
   "cell_type": "code",
   "execution_count": 11,
   "id": "3ff07ad1",
   "metadata": {},
   "outputs": [],
   "source": [
    "df = pd.DataFrame(result)"
   ]
  },
  {
   "cell_type": "code",
   "execution_count": 13,
   "id": "5c1bf2ce",
   "metadata": {},
   "outputs": [
    {
     "data": {
      "text/plain": [
       "0    5.048\n",
       "dtype: float64"
      ]
     },
     "execution_count": 13,
     "metadata": {},
     "output_type": "execute_result"
    }
   ],
   "source": [
    "df.mean()"
   ]
  },
  {
   "cell_type": "code",
   "execution_count": 14,
   "id": "8e830c3a",
   "metadata": {},
   "outputs": [],
   "source": [
    "df[\"dev\"] = abs(5-df[0])"
   ]
  },
  {
   "cell_type": "code",
   "execution_count": 15,
   "id": "b0d62848",
   "metadata": {},
   "outputs": [
    {
     "data": {
      "text/html": [
       "<div>\n",
       "<style scoped>\n",
       "    .dataframe tbody tr th:only-of-type {\n",
       "        vertical-align: middle;\n",
       "    }\n",
       "\n",
       "    .dataframe tbody tr th {\n",
       "        vertical-align: top;\n",
       "    }\n",
       "\n",
       "    .dataframe thead th {\n",
       "        text-align: right;\n",
       "    }\n",
       "</style>\n",
       "<table border=\"1\" class=\"dataframe\">\n",
       "  <thead>\n",
       "    <tr style=\"text-align: right;\">\n",
       "      <th></th>\n",
       "      <th>0</th>\n",
       "      <th>dev</th>\n",
       "    </tr>\n",
       "  </thead>\n",
       "  <tbody>\n",
       "    <tr>\n",
       "      <th>0</th>\n",
       "      <td>5</td>\n",
       "      <td>0</td>\n",
       "    </tr>\n",
       "    <tr>\n",
       "      <th>1</th>\n",
       "      <td>6</td>\n",
       "      <td>1</td>\n",
       "    </tr>\n",
       "    <tr>\n",
       "      <th>2</th>\n",
       "      <td>3</td>\n",
       "      <td>2</td>\n",
       "    </tr>\n",
       "    <tr>\n",
       "      <th>3</th>\n",
       "      <td>5</td>\n",
       "      <td>0</td>\n",
       "    </tr>\n",
       "    <tr>\n",
       "      <th>4</th>\n",
       "      <td>7</td>\n",
       "      <td>2</td>\n",
       "    </tr>\n",
       "    <tr>\n",
       "      <th>...</th>\n",
       "      <td>...</td>\n",
       "      <td>...</td>\n",
       "    </tr>\n",
       "    <tr>\n",
       "      <th>995</th>\n",
       "      <td>3</td>\n",
       "      <td>2</td>\n",
       "    </tr>\n",
       "    <tr>\n",
       "      <th>996</th>\n",
       "      <td>4</td>\n",
       "      <td>1</td>\n",
       "    </tr>\n",
       "    <tr>\n",
       "      <th>997</th>\n",
       "      <td>6</td>\n",
       "      <td>1</td>\n",
       "    </tr>\n",
       "    <tr>\n",
       "      <th>998</th>\n",
       "      <td>7</td>\n",
       "      <td>2</td>\n",
       "    </tr>\n",
       "    <tr>\n",
       "      <th>999</th>\n",
       "      <td>5</td>\n",
       "      <td>0</td>\n",
       "    </tr>\n",
       "  </tbody>\n",
       "</table>\n",
       "<p>1000 rows × 2 columns</p>\n",
       "</div>"
      ],
      "text/plain": [
       "     0  dev\n",
       "0    5    0\n",
       "1    6    1\n",
       "2    3    2\n",
       "3    5    0\n",
       "4    7    2\n",
       "..  ..  ...\n",
       "995  3    2\n",
       "996  4    1\n",
       "997  6    1\n",
       "998  7    2\n",
       "999  5    0\n",
       "\n",
       "[1000 rows x 2 columns]"
      ]
     },
     "execution_count": 15,
     "metadata": {},
     "output_type": "execute_result"
    }
   ],
   "source": [
    "df"
   ]
  },
  {
   "cell_type": "markdown",
   "id": "b5aeb0e3",
   "metadata": {},
   "source": [
    "### COIN CHECK"
   ]
  },
  {
   "cell_type": "markdown",
   "id": "c6ec32a0",
   "metadata": {},
   "source": [
    "MDE - 10% <br>\n",
    "Power (1- beta) - 80% <br>\n",
    "Significance (alpha) - 5% <br>"
   ]
  },
  {
   "cell_type": "markdown",
   "id": "56e73a03",
   "metadata": {},
   "source": [
    "#### FPR"
   ]
  },
  {
   "cell_type": "code",
   "execution_count": 61,
   "id": "7c9b1271",
   "metadata": {},
   "outputs": [],
   "source": [
    "sample_size = 200"
   ]
  },
  {
   "cell_type": "code",
   "execution_count": 62,
   "id": "8204bbc0",
   "metadata": {},
   "outputs": [],
   "source": [
    "n = 10000\n",
    "result = []\n",
    "for i in range(n):\n",
    "    np.random.seed(i)\n",
    "    result.append(np.random.binomial(sample_size, 0.5))"
   ]
  },
  {
   "cell_type": "code",
   "execution_count": 63,
   "id": "78353dbc",
   "metadata": {},
   "outputs": [],
   "source": [
    "df = pd.DataFrame(result)"
   ]
  },
  {
   "cell_type": "code",
   "execution_count": 64,
   "id": "83208b33",
   "metadata": {},
   "outputs": [],
   "source": [
    "df[\"dev\"] = abs(sample_size / 2 - df[0])"
   ]
  },
  {
   "cell_type": "code",
   "execution_count": 65,
   "id": "882d9cea",
   "metadata": {},
   "outputs": [
    {
     "data": {
      "text/plain": [
       "0.0383"
      ]
     },
     "execution_count": 65,
     "metadata": {},
     "output_type": "execute_result"
    }
   ],
   "source": [
    "(df[\"dev\"] >= sample_size * 0.07).mean() # aplha"
   ]
  },
  {
   "cell_type": "markdown",
   "id": "32bc8fb6",
   "metadata": {},
   "source": [
    "#### TPR"
   ]
  },
  {
   "cell_type": "code",
   "execution_count": 66,
   "id": "3dc8bb86",
   "metadata": {},
   "outputs": [],
   "source": [
    "mde = 0.1"
   ]
  },
  {
   "cell_type": "code",
   "execution_count": 67,
   "id": "9247c4ea",
   "metadata": {},
   "outputs": [],
   "source": [
    "n = 10000\n",
    "result = []\n",
    "for i in range(n):\n",
    "    np.random.seed(i)\n",
    "    result.append(np.random.binomial(sample_size, 0.5 + mde))"
   ]
  },
  {
   "cell_type": "code",
   "execution_count": 68,
   "id": "34ff9e29",
   "metadata": {},
   "outputs": [],
   "source": [
    "df = pd.DataFrame(result)"
   ]
  },
  {
   "cell_type": "code",
   "execution_count": 69,
   "id": "ac35d584",
   "metadata": {},
   "outputs": [],
   "source": [
    "df[\"dev\"] = abs(sample_size / 2 - df[0])"
   ]
  },
  {
   "cell_type": "code",
   "execution_count": 71,
   "id": "5041d511",
   "metadata": {},
   "outputs": [
    {
     "data": {
      "text/plain": [
       "0.7891"
      ]
     },
     "execution_count": 71,
     "metadata": {},
     "output_type": "execute_result"
    }
   ],
   "source": [
    "(df[\"dev\"] >= sample_size * 0.07).mean()"
   ]
  },
  {
   "cell_type": "markdown",
   "id": "70fa053d",
   "metadata": {},
   "source": [
    "### Satisfation check\n",
    "удовлетворенность клиентов"
   ]
  },
  {
   "cell_type": "markdown",
   "id": "cd511c82",
   "metadata": {},
   "source": [
    "H0 - 80% <br>\n",
    "H1 < 80 % \n",
    "\n",
    "MDE - 10% <br>\n",
    "Power (1- beta) - 80% <br>\n",
    "Significance (alpha) - 5% <br>"
   ]
  },
  {
   "cell_type": "code",
   "execution_count": 127,
   "id": "5d8ada7e",
   "metadata": {},
   "outputs": [],
   "source": [
    "sample_size = 115 # клиентов надо будет опросить"
   ]
  },
  {
   "cell_type": "code",
   "execution_count": 128,
   "id": "393daebc",
   "metadata": {},
   "outputs": [
    {
     "data": {
      "text/plain": [
       "0.0685"
      ]
     },
     "execution_count": 128,
     "metadata": {},
     "output_type": "execute_result"
    }
   ],
   "source": [
    "n = 10000\n",
    "result = []\n",
    "for i in range(n):\n",
    "    np.random.seed(i)\n",
    "    result.append(np.random.binomial(sample_size, 0.8))\n",
    "df = pd.DataFrame(result)\n",
    "df[\"dev\"] = df[0] - sample_size * 0.8\n",
    "threshold = sample_size * 0.06\n",
    "(df[\"dev\"] <= -threshold).mean() # aplha"
   ]
  },
  {
   "cell_type": "code",
   "execution_count": 130,
   "id": "f2305428",
   "metadata": {},
   "outputs": [
    {
     "data": {
      "text/plain": [
       "0.8389"
      ]
     },
     "execution_count": 130,
     "metadata": {},
     "output_type": "execute_result"
    }
   ],
   "source": [
    "mde = 0.1\n",
    "n = 10000\n",
    "result = []\n",
    "for i in range(n):\n",
    "    np.random.seed(i)\n",
    "    result.append(np.random.binomial(sample_size, 0.8 - mde))\n",
    "df = pd.DataFrame(result)\n",
    "df[\"dev\"] = df[0] - sample_size * 0.8\n",
    "(df[\"dev\"] <= -threshold).mean() # Power"
   ]
  },
  {
   "cell_type": "markdown",
   "id": "60a86142",
   "metadata": {},
   "source": [
    "Принимаем альтернативную гипотезу при (sample_size * 0.06) 7 неудовлетворенных клиентах"
   ]
  },
  {
   "cell_type": "markdown",
   "id": "dd53161c",
   "metadata": {},
   "source": [
    "## P-value"
   ]
  },
  {
   "cell_type": "code",
   "execution_count": 5,
   "id": "b422f2f5",
   "metadata": {},
   "outputs": [],
   "source": [
    "sample_size = 115 # клиентов надо будет опросить\n",
    "n = 10000\n",
    "result = []\n",
    "for i in range(n):\n",
    "    np.random.seed(i)\n",
    "    result.append(np.random.binomial(sample_size, 0.8))\n",
    "df = pd.DataFrame(result)\n",
    "df[\"dev\"] = df[0] - sample_size * 0.8\n"
   ]
  },
  {
   "cell_type": "code",
   "execution_count": 6,
   "id": "ebacadb4",
   "metadata": {},
   "outputs": [
    {
     "data": {
      "text/plain": [
       "0.0437"
      ]
     },
     "execution_count": 6,
     "metadata": {},
     "output_type": "execute_result"
    }
   ],
   "source": [
    "(df[\"dev\"] <= -8).mean() #p_value"
   ]
  },
  {
   "cell_type": "code",
   "execution_count": 8,
   "id": "cea05b48",
   "metadata": {},
   "outputs": [],
   "source": [
    "devs = list(range(0, int(sample_size * 0.8)+1))"
   ]
  },
  {
   "cell_type": "code",
   "execution_count": 10,
   "id": "d98480cb",
   "metadata": {},
   "outputs": [],
   "source": [
    "result = []\n",
    "for dev in devs:\n",
    "    result.append((dev, (df[\"dev\"] <= -dev).mean()))"
   ]
  },
  {
   "cell_type": "code",
   "execution_count": 16,
   "id": "b0018603",
   "metadata": {},
   "outputs": [],
   "source": [
    "pvals = pd.DataFrame(result,columns=['people','p-values'])"
   ]
  },
  {
   "cell_type": "code",
   "execution_count": 17,
   "id": "9ee3c8a4",
   "metadata": {},
   "outputs": [
    {
     "data": {
      "text/html": [
       "<div>\n",
       "<style scoped>\n",
       "    .dataframe tbody tr th:only-of-type {\n",
       "        vertical-align: middle;\n",
       "    }\n",
       "\n",
       "    .dataframe tbody tr th {\n",
       "        vertical-align: top;\n",
       "    }\n",
       "\n",
       "    .dataframe thead th {\n",
       "        text-align: right;\n",
       "    }\n",
       "</style>\n",
       "<table border=\"1\" class=\"dataframe\">\n",
       "  <thead>\n",
       "    <tr style=\"text-align: right;\">\n",
       "      <th></th>\n",
       "      <th>people</th>\n",
       "      <th>p-values</th>\n",
       "    </tr>\n",
       "  </thead>\n",
       "  <tbody>\n",
       "    <tr>\n",
       "      <th>0</th>\n",
       "      <td>0</td>\n",
       "      <td>0.5348</td>\n",
       "    </tr>\n",
       "    <tr>\n",
       "      <th>1</th>\n",
       "      <td>1</td>\n",
       "      <td>0.4498</td>\n",
       "    </tr>\n",
       "    <tr>\n",
       "      <th>2</th>\n",
       "      <td>2</td>\n",
       "      <td>0.3632</td>\n",
       "    </tr>\n",
       "    <tr>\n",
       "      <th>3</th>\n",
       "      <td>3</td>\n",
       "      <td>0.2777</td>\n",
       "    </tr>\n",
       "    <tr>\n",
       "      <th>4</th>\n",
       "      <td>4</td>\n",
       "      <td>0.2067</td>\n",
       "    </tr>\n",
       "    <tr>\n",
       "      <th>...</th>\n",
       "      <td>...</td>\n",
       "      <td>...</td>\n",
       "    </tr>\n",
       "    <tr>\n",
       "      <th>88</th>\n",
       "      <td>88</td>\n",
       "      <td>0.0000</td>\n",
       "    </tr>\n",
       "    <tr>\n",
       "      <th>89</th>\n",
       "      <td>89</td>\n",
       "      <td>0.0000</td>\n",
       "    </tr>\n",
       "    <tr>\n",
       "      <th>90</th>\n",
       "      <td>90</td>\n",
       "      <td>0.0000</td>\n",
       "    </tr>\n",
       "    <tr>\n",
       "      <th>91</th>\n",
       "      <td>91</td>\n",
       "      <td>0.0000</td>\n",
       "    </tr>\n",
       "    <tr>\n",
       "      <th>92</th>\n",
       "      <td>92</td>\n",
       "      <td>0.0000</td>\n",
       "    </tr>\n",
       "  </tbody>\n",
       "</table>\n",
       "<p>93 rows × 2 columns</p>\n",
       "</div>"
      ],
      "text/plain": [
       "    people  p-values\n",
       "0        0    0.5348\n",
       "1        1    0.4498\n",
       "2        2    0.3632\n",
       "3        3    0.2777\n",
       "4        4    0.2067\n",
       "..     ...       ...\n",
       "88      88    0.0000\n",
       "89      89    0.0000\n",
       "90      90    0.0000\n",
       "91      91    0.0000\n",
       "92      92    0.0000\n",
       "\n",
       "[93 rows x 2 columns]"
      ]
     },
     "execution_count": 17,
     "metadata": {},
     "output_type": "execute_result"
    }
   ],
   "source": [
    "pvals"
   ]
  },
  {
   "cell_type": "code",
   "execution_count": 18,
   "id": "10cfac82",
   "metadata": {},
   "outputs": [],
   "source": [
    "from statsmodels.stats.proportion import proportions_ztest"
   ]
  },
  {
   "cell_type": "code",
   "execution_count": 19,
   "id": "1df24c7c",
   "metadata": {},
   "outputs": [
    {
     "data": {
      "text/plain": [
       "(-1.6811962678215244, 0.046362399106540116)"
      ]
     },
     "execution_count": 19,
     "metadata": {},
     "output_type": "execute_result"
    }
   ],
   "source": [
    "proportions_ztest(84,115,0.8,alternative='smaller')"
   ]
  },
  {
   "cell_type": "code",
   "execution_count": 20,
   "id": "e6759a3e",
   "metadata": {},
   "outputs": [],
   "source": [
    "pvals['pval_ztest'] = pvals['people'].apply(lambda x: proportions_ztest(92-x,115,0.8,alternative='smaller')[1])"
   ]
  },
  {
   "cell_type": "code",
   "execution_count": 21,
   "id": "83fd3fee",
   "metadata": {},
   "outputs": [
    {
     "data": {
      "text/html": [
       "<div>\n",
       "<style scoped>\n",
       "    .dataframe tbody tr th:only-of-type {\n",
       "        vertical-align: middle;\n",
       "    }\n",
       "\n",
       "    .dataframe tbody tr th {\n",
       "        vertical-align: top;\n",
       "    }\n",
       "\n",
       "    .dataframe thead th {\n",
       "        text-align: right;\n",
       "    }\n",
       "</style>\n",
       "<table border=\"1\" class=\"dataframe\">\n",
       "  <thead>\n",
       "    <tr style=\"text-align: right;\">\n",
       "      <th></th>\n",
       "      <th>people</th>\n",
       "      <th>p-values</th>\n",
       "      <th>pval_ztest</th>\n",
       "    </tr>\n",
       "  </thead>\n",
       "  <tbody>\n",
       "    <tr>\n",
       "      <th>0</th>\n",
       "      <td>0</td>\n",
       "      <td>0.5348</td>\n",
       "      <td>0.500000</td>\n",
       "    </tr>\n",
       "    <tr>\n",
       "      <th>1</th>\n",
       "      <td>1</td>\n",
       "      <td>0.4498</td>\n",
       "      <td>0.409252</td>\n",
       "    </tr>\n",
       "    <tr>\n",
       "      <th>2</th>\n",
       "      <td>2</td>\n",
       "      <td>0.3632</td>\n",
       "      <td>0.325579</td>\n",
       "    </tr>\n",
       "    <tr>\n",
       "      <th>3</th>\n",
       "      <td>3</td>\n",
       "      <td>0.2777</td>\n",
       "      <td>0.251815</td>\n",
       "    </tr>\n",
       "    <tr>\n",
       "      <th>4</th>\n",
       "      <td>4</td>\n",
       "      <td>0.2067</td>\n",
       "      <td>0.189428</td>\n",
       "    </tr>\n",
       "    <tr>\n",
       "      <th>...</th>\n",
       "      <td>...</td>\n",
       "      <td>...</td>\n",
       "      <td>...</td>\n",
       "    </tr>\n",
       "    <tr>\n",
       "      <th>88</th>\n",
       "      <td>88</td>\n",
       "      <td>0.0000</td>\n",
       "      <td>0.000000</td>\n",
       "    </tr>\n",
       "    <tr>\n",
       "      <th>89</th>\n",
       "      <td>89</td>\n",
       "      <td>0.0000</td>\n",
       "      <td>0.000000</td>\n",
       "    </tr>\n",
       "    <tr>\n",
       "      <th>90</th>\n",
       "      <td>90</td>\n",
       "      <td>0.0000</td>\n",
       "      <td>0.000000</td>\n",
       "    </tr>\n",
       "    <tr>\n",
       "      <th>91</th>\n",
       "      <td>91</td>\n",
       "      <td>0.0000</td>\n",
       "      <td>0.000000</td>\n",
       "    </tr>\n",
       "    <tr>\n",
       "      <th>92</th>\n",
       "      <td>92</td>\n",
       "      <td>0.0000</td>\n",
       "      <td>0.000000</td>\n",
       "    </tr>\n",
       "  </tbody>\n",
       "</table>\n",
       "<p>93 rows × 3 columns</p>\n",
       "</div>"
      ],
      "text/plain": [
       "    people  p-values  pval_ztest\n",
       "0        0    0.5348    0.500000\n",
       "1        1    0.4498    0.409252\n",
       "2        2    0.3632    0.325579\n",
       "3        3    0.2777    0.251815\n",
       "4        4    0.2067    0.189428\n",
       "..     ...       ...         ...\n",
       "88      88    0.0000    0.000000\n",
       "89      89    0.0000    0.000000\n",
       "90      90    0.0000    0.000000\n",
       "91      91    0.0000    0.000000\n",
       "92      92    0.0000    0.000000\n",
       "\n",
       "[93 rows x 3 columns]"
      ]
     },
     "execution_count": 21,
     "metadata": {},
     "output_type": "execute_result"
    }
   ],
   "source": [
    "pvals"
   ]
  },
  {
   "cell_type": "code",
   "execution_count": null,
   "id": "56db038a",
   "metadata": {},
   "outputs": [],
   "source": []
  }
 ],
 "metadata": {
  "kernelspec": {
   "display_name": "Python [conda env:base] *",
   "language": "python",
   "name": "conda-base-py"
  },
  "language_info": {
   "codemirror_mode": {
    "name": "ipython",
    "version": 3
   },
   "file_extension": ".py",
   "mimetype": "text/x-python",
   "name": "python",
   "nbconvert_exporter": "python",
   "pygments_lexer": "ipython3",
   "version": "3.11.5"
  }
 },
 "nbformat": 4,
 "nbformat_minor": 5
}
